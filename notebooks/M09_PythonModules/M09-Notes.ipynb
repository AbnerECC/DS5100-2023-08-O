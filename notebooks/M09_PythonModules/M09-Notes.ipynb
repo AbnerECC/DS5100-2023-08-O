{
 "cells": [
  {
   "cell_type": "markdown",
   "id": "677898ec-e70a-4ae8-bd61-cdc4a2be6dec",
   "metadata": {},
   "source": [
    "# M09 Notes"
   ]
  },
  {
   "cell_type": "markdown",
   "id": "90b7997f-4dd6-422e-b811-7262c40d382c",
   "metadata": {},
   "source": [
    "# Vocabulary\n",
    "\n",
    "* Module, Package, Libary"
   ]
  },
  {
   "cell_type": "markdown",
   "id": "228dc8df-a648-426b-8d78-49e6ea5b6c60",
   "metadata": {},
   "source": [
    "# Namespaces\n",
    "\n",
    "* Hierarchical organization of code and variables\n",
    "* Maps onto file system\n",
    "* Dot notation"
   ]
  },
  {
   "cell_type": "markdown",
   "id": "806ae3d3-dc64-47ae-9da0-0ef505fd9e4b",
   "metadata": {},
   "source": [
    "# Program Structure\n",
    "\n",
    "* Top-level file\n",
    "* Libraries and Packages\n",
    "* Test files"
   ]
  },
  {
   "cell_type": "markdown",
   "id": "04afca07-ac3e-41d9-af25-36466113b484",
   "metadata": {},
   "source": [
    "# Search Paths\n",
    "\n",
    "To find the files associated with an import statement, Python searches the following locations in this order:\n",
    "\n",
    "1. The home directory of the program.\n",
    "2. `PYTHONPATH` environment variable directories (if set).\n",
    "3. Standard library directories.\n",
    "4. The contents of any `.pth` files (if present).\n",
    "5. The `site-packages` home of third-party extensions.\n",
    "\n",
    "Togther, these compose the `sys.path` variable.\n",
    "\n",
    "You can inspect this variable by importing the `sys` module."
   ]
  },
  {
   "cell_type": "code",
   "execution_count": 1,
   "id": "e57e669c-43e7-47bc-aa71-63f2ebb09903",
   "metadata": {
    "tags": []
   },
   "outputs": [],
   "source": [
    "import sys"
   ]
  },
  {
   "cell_type": "markdown",
   "id": "e25df87e-8023-4ce6-83d1-37dea757e875",
   "metadata": {},
   "source": [
    "Here's the path -- it's a list with the order described above:"
   ]
  },
  {
   "cell_type": "code",
   "execution_count": 2,
   "id": "5eedccb5-b45d-4fbf-9d95-d0463e217f89",
   "metadata": {
    "tags": []
   },
   "outputs": [
    {
     "data": {
      "text/plain": [
       "['/Users/rca2t1/Dropbox/Courses/DS/DS5100/DS5100-2023-08-O/repo/notebooks/M09_PythonModules',\n",
       " '/Users/rca2t1/anaconda3/lib/python311.zip',\n",
       " '/Users/rca2t1/anaconda3/lib/python3.11',\n",
       " '/Users/rca2t1/anaconda3/lib/python3.11/lib-dynload',\n",
       " '',\n",
       " '/Users/rca2t1/anaconda3/lib/python3.11/site-packages',\n",
       " '/Users/rca2t1/anaconda3/lib/python3.11/site-packages/aeosa']"
      ]
     },
     "execution_count": 2,
     "metadata": {},
     "output_type": "execute_result"
    }
   ],
   "source": [
    "sys.path"
   ]
  },
  {
   "cell_type": "markdown",
   "id": "ac8193f7-32bd-4514-b8e7-89dd1721bb53",
   "metadata": {},
   "source": [
    "We can append this list to add other places for Python to look:"
   ]
  },
  {
   "cell_type": "code",
   "execution_count": 3,
   "id": "d662c7d2-09e9-48d8-bb0b-2242e886d122",
   "metadata": {
    "tags": []
   },
   "outputs": [],
   "source": [
    "sys.path.append('/Users/rca2t1/Downloads/')"
   ]
  },
  {
   "cell_type": "code",
   "execution_count": 4,
   "id": "fd3a99cd-d6c1-41f0-8c59-cf9c5875d7cd",
   "metadata": {
    "tags": []
   },
   "outputs": [
    {
     "data": {
      "text/plain": [
       "['/Users/rca2t1/Dropbox/Courses/DS/DS5100/DS5100-2023-08-O/repo/notebooks/M09_PythonModules',\n",
       " '/Users/rca2t1/anaconda3/lib/python311.zip',\n",
       " '/Users/rca2t1/anaconda3/lib/python3.11',\n",
       " '/Users/rca2t1/anaconda3/lib/python3.11/lib-dynload',\n",
       " '',\n",
       " '/Users/rca2t1/anaconda3/lib/python3.11/site-packages',\n",
       " '/Users/rca2t1/anaconda3/lib/python3.11/site-packages/aeosa',\n",
       " '/Users/rca2t1/Downloads/']"
      ]
     },
     "execution_count": 4,
     "metadata": {},
     "output_type": "execute_result"
    }
   ],
   "source": [
    "sys.path"
   ]
  },
  {
   "cell_type": "markdown",
   "id": "4492699c-8b7b-46fc-b9da-d5783986ca61",
   "metadata": {},
   "source": [
    "We can even play with the search order:"
   ]
  },
  {
   "cell_type": "code",
   "execution_count": 5,
   "id": "026295e8-830c-45aa-b051-0baef3fd9030",
   "metadata": {
    "tags": []
   },
   "outputs": [],
   "source": [
    "sys.path.reverse()"
   ]
  },
  {
   "cell_type": "code",
   "execution_count": 6,
   "id": "1a09f192-0835-4e68-a112-a404923bcd6e",
   "metadata": {
    "tags": []
   },
   "outputs": [
    {
     "data": {
      "text/plain": [
       "['/Users/rca2t1/Downloads/',\n",
       " '/Users/rca2t1/anaconda3/lib/python3.11/site-packages/aeosa',\n",
       " '/Users/rca2t1/anaconda3/lib/python3.11/site-packages',\n",
       " '',\n",
       " '/Users/rca2t1/anaconda3/lib/python3.11/lib-dynload',\n",
       " '/Users/rca2t1/anaconda3/lib/python3.11',\n",
       " '/Users/rca2t1/anaconda3/lib/python311.zip',\n",
       " '/Users/rca2t1/Dropbox/Courses/DS/DS5100/DS5100-2023-08-O/repo/notebooks/M09_PythonModules']"
      ]
     },
     "execution_count": 6,
     "metadata": {},
     "output_type": "execute_result"
    }
   ],
   "source": [
    "sys.path"
   ]
  },
  {
   "cell_type": "code",
   "execution_count": 12,
   "id": "05d2c16d-b496-413f-a781-9667f7b7b624",
   "metadata": {
    "tags": []
   },
   "outputs": [],
   "source": [
    "sys.path.insert(0, \"/Users/rca2t1/Documents/\")"
   ]
  },
  {
   "cell_type": "code",
   "execution_count": 13,
   "id": "7f011be0-c618-4f56-afb4-b821b3b6ac36",
   "metadata": {
    "tags": []
   },
   "outputs": [
    {
     "data": {
      "text/plain": [
       "['/Users/rca2t1/Documents/',\n",
       " '/Users/rca2t1/Downloads/',\n",
       " '/Users/rca2t1/anaconda3/lib/python3.11/site-packages/aeosa',\n",
       " '/Users/rca2t1/anaconda3/lib/python3.11/site-packages',\n",
       " '',\n",
       " '/Users/rca2t1/anaconda3/lib/python3.11/lib-dynload',\n",
       " '/Users/rca2t1/anaconda3/lib/python3.11',\n",
       " '/Users/rca2t1/anaconda3/lib/python311.zip',\n",
       " '/Users/rca2t1/Dropbox/Courses/DS/DS5100/DS5100-2023-08-O/repo/notebooks/M09_PythonModules']"
      ]
     },
     "execution_count": 13,
     "metadata": {},
     "output_type": "execute_result"
    }
   ],
   "source": [
    "sys.path"
   ]
  },
  {
   "cell_type": "code",
   "execution_count": null,
   "id": "a23691e5-7bd0-4de2-8beb-ad0254926109",
   "metadata": {},
   "outputs": [],
   "source": []
  }
 ],
 "metadata": {
  "kernelspec": {
   "display_name": "Python 3 (ipykernel)",
   "language": "python",
   "name": "python3"
  },
  "language_info": {
   "codemirror_mode": {
    "name": "ipython",
    "version": 3
   },
   "file_extension": ".py",
   "mimetype": "text/x-python",
   "name": "python",
   "nbconvert_exporter": "python",
   "pygments_lexer": "ipython3",
   "version": "3.11.3"
  }
 },
 "nbformat": 4,
 "nbformat_minor": 5
}
