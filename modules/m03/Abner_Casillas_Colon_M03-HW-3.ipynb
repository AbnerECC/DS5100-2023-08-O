{
 "cells": [
  {
   "cell_type": "markdown",
   "metadata": {
    "tags": []
   },
   "source": [
    "# Metadata\n",
    "\n",
    "```yaml\n",
    "Course:   DS 5100\n",
    "Term:     Fall 2023\n",
    "Module:   M03 Homework\n",
    "Author:   R.C. Alvarado\n",
    "Date:     19 August 2023 (revised)\n",
    "```"
   ]
  },
  {
   "cell_type": "markdown",
   "metadata": {},
   "source": [
    "# Student Info\n",
    "\n",
    "* Name: Abner Casillas-Colon\n",
    "* Net ID: aec4hr\n",
    "* URL of this file in GitHub: https://github.com/AbnerECC/DS5100-2023-08-O/tree/main/modules/m03"
   ]
  },
  {
   "cell_type": "markdown",
   "metadata": {
    "tags": []
   },
   "source": [
    "# Instructions\n",
    "\n",
    "In your **private course repo on Rivanna**, write a Jupyter notebook running Python that performs the numbered tasks below. \n",
    "\n",
    "For each task, create a code cell to perform the task.\n",
    "\n",
    "Save your notebook in the `M03` directory as `hw03.ipynb`. \n",
    "\n",
    "Add and commit these files to your repo. \n",
    "\n",
    "Then push your commits to your repo on GitHib.\n",
    "\n",
    "Be sure to fill out the **Student Info** block above.\n",
    "\n",
    "To submit your homework, save the notebook as a PDF and upload it to GradeScope, following the instructions.\n",
    "\n",
    "**12 points**"
   ]
  },
  {
   "cell_type": "markdown",
   "metadata": {},
   "source": [
    "# Task 1\n",
    "\n",
    "(6 points)\n",
    "\n",
    "Using the **for** loop and **if** statement control structures, \n",
    "write a script that generates the integers from $1$ to $100$ and does the following things:\n",
    "\n",
    "* If $3$ is a factor of the number but $5$ is not, print `Wahoo`.\n",
    "* If $5$ is a factor of the number but $3$ is not, print `wah!`.\n",
    "* If both $3$ and $5$ are factors of the number, print `Wahoowah!`.\n",
    "* If the number meets none of the above conditions, print nothing, not even a line break.\n",
    "* Make sure that the line printed for each iteration in which a condition is met ends with a line break.\n",
    "* When the loop is finished, print the number of times either conidtion was met, i.e. the number of lines that were printed.\n",
    "\n",
    "Hint: You may not need to use **elif** and **else** to accomplish these tasks."
   ]
  },
  {
   "cell_type": "code",
   "execution_count": 2,
   "metadata": {},
   "outputs": [
    {
     "name": "stdout",
     "output_type": "stream",
     "text": [
      "Wahoowah!\n",
      "\n",
      "Wahoowah!\n",
      "\n",
      "wah!\n",
      "\n",
      "Wahoowah!\n",
      "\n",
      "Wahoowah!\n",
      "\n",
      "wah!\n",
      "\n",
      "Wahoowah!\n",
      "\n",
      "Wahoowah!\n",
      "\n",
      "Wahoowah!\n",
      "\n",
      "wah!\n",
      "\n",
      "Wahoowah!\n",
      "\n",
      "Wahoowah!\n",
      "\n",
      "wah!\n",
      "\n",
      "Wahoowah!\n",
      "\n",
      "Wahoowah!\n",
      "\n",
      "Wahoowah!\n",
      "\n",
      "wah!\n",
      "\n",
      "Wahoowah!\n",
      "\n",
      "Wahoowah!\n",
      "\n",
      "wah!\n",
      "\n",
      "Wahoowah!\n",
      "\n",
      "Wahoowah!\n",
      "\n",
      "Wahoowah!\n",
      "\n",
      "wah!\n",
      "\n",
      "Wahoowah!\n",
      "\n",
      "Wahoowah!\n",
      "\n",
      "wah!\n",
      "\n",
      "Wahoowah!\n",
      "\n",
      "Wahoowah!\n",
      "\n",
      "Wahoowah!\n",
      "\n",
      "wah!\n",
      "\n",
      "Wahoowah!\n",
      "\n",
      "Wahoowah!\n",
      "\n",
      "wah!\n",
      "\n",
      "Wahoowah!\n",
      "\n",
      "Wahoowah!\n",
      "\n",
      "Wahoowah!\n",
      "\n",
      "wah!\n",
      "\n",
      "Wahoowah!\n",
      "\n",
      "Wahoowah!\n",
      "\n",
      "wah!\n",
      "\n",
      "Wahoowah!\n",
      "\n",
      "Wahoowah!\n",
      "\n",
      "Wahoowah!\n",
      "\n",
      "wah!\n",
      "\n",
      "Wahoowah!\n",
      "\n",
      "Wahoowah!\n",
      "\n",
      "47\n"
     ]
    }
   ],
   "source": [
    "# CODE\n",
    "Wahoo_count = 0\n",
    "wah_count = 0\n",
    "Wahoowah_count = 0\n",
    "\n",
    "for num in range(100):\n",
    "    if num % 3 == 0 & num % 5 == 0:\n",
    "        Wahoowah_count += 1\n",
    "        print('Wahoowah!\\n')\n",
    "    elif num % 3 == 0:\n",
    "        Wahoo_count += 1\n",
    "        print('Wahoo\\n')\n",
    "    elif num % 5 == 0:\n",
    "        wah_count += 1\n",
    "        print('wah!\\n')\n",
    "total_count = Wahoo_count+wah_count+Wahoowah_count\n",
    "print(total_count)\n",
    "    "
   ]
  },
  {
   "cell_type": "markdown",
   "metadata": {
    "tags": []
   },
   "source": [
    "# Task 2\n",
    "\n",
    "(3 points)\n",
    "\n",
    "Rewrite the `for` loop as a `while` loop. \n",
    "\n",
    "This time, only print lines where both conditions are met. \n",
    "\n",
    "Include a final line which prints the number of times both conditions are met."
   ]
  },
  {
   "cell_type": "code",
   "execution_count": 8,
   "metadata": {},
   "outputs": [
    {
     "name": "stdout",
     "output_type": "stream",
     "text": [
      "Wahoowah!\n",
      "\n",
      "Wahoowah!\n",
      "\n",
      "Wahoowah!\n",
      "\n",
      "Wahoowah!\n",
      "\n",
      "Wahoowah!\n",
      "\n",
      "Wahoowah!\n",
      "\n",
      "Wahoowah!\n",
      "\n",
      "Wahoowah!\n",
      "\n",
      "Wahoowah!\n",
      "\n",
      "Wahoowah!\n",
      "\n",
      "Wahoowah!\n",
      "\n",
      "Wahoowah!\n",
      "\n",
      "Wahoowah!\n",
      "\n",
      "Wahoowah!\n",
      "\n",
      "Wahoowah!\n",
      "\n",
      "Wahoowah!\n",
      "\n",
      "Wahoowah!\n",
      "\n",
      "Wahoowah!\n",
      "\n",
      "Wahoowah!\n",
      "\n",
      "Wahoowah!\n",
      "\n",
      "Wahoowah!\n",
      "\n",
      "Wahoowah!\n",
      "\n",
      "Wahoowah!\n",
      "\n",
      "Wahoowah!\n",
      "\n",
      "Wahoowah!\n",
      "\n",
      "Wahoowah!\n",
      "\n",
      "Wahoowah!\n",
      "\n",
      "Wahoowah!\n",
      "\n",
      "Wahoowah!\n",
      "\n",
      "Wahoowah!\n",
      "\n",
      "Wahoowah!\n",
      "\n",
      "Wahoowah!\n",
      "\n",
      "Wahoowah!\n",
      "\n",
      "33\n"
     ]
    }
   ],
   "source": [
    "# CODE\n",
    "\n",
    "ix = 1\n",
    "Wahoowah_count = 0\n",
    "\n",
    "\n",
    "while ix < 100:\n",
    "    if ix % 3 == 0 & ix % 5 == 0:\n",
    "        Wahoowah_count += 1\n",
    "        ix += 1\n",
    "        print('Wahoowah!\\n')\n",
    "    else:\n",
    "        ix += 1\n",
    "\n",
    "print(Wahoowah_count)\n",
    "    "
   ]
  },
  {
   "cell_type": "markdown",
   "metadata": {
    "tags": []
   },
   "source": [
    "# Task 3\n",
    "\n",
    "(3 points)\n",
    "\n",
    "Write a list comprehension that iterates through the integers from $1$ to $100$ and returns a list containing the sum of the boolean values of the three conditions described in Task 1."
   ]
  },
  {
   "cell_type": "code",
   "execution_count": 13,
   "metadata": {},
   "outputs": [
    {
     "name": "stdout",
     "output_type": "stream",
     "text": [
      "47\n"
     ]
    }
   ],
   "source": [
    "# CODE\n",
    "total_count = [num\n",
    "              for num in range(100)\n",
    "              if num % 3 == 0 & num % 5 == 0\n",
    "              or num %3 == 0\n",
    "              or num %5 ==0]\n",
    "print(len(total_count))"
   ]
  },
  {
   "cell_type": "code",
   "execution_count": null,
   "metadata": {},
   "outputs": [],
   "source": []
  }
 ],
 "metadata": {
  "kernelspec": {
   "display_name": "Python 3",
   "language": "python",
   "name": "python3"
  },
  "language_info": {
   "codemirror_mode": {
    "name": "ipython",
    "version": 3
   },
   "file_extension": ".py",
   "mimetype": "text/x-python",
   "name": "python",
   "nbconvert_exporter": "python",
   "pygments_lexer": "ipython3",
   "version": "3.8.8"
  },
  "widgets": {
   "application/vnd.jupyter.widget-state+json": {
    "state": {},
    "version_major": 2,
    "version_minor": 0
   }
  }
 },
 "nbformat": 4,
 "nbformat_minor": 5
}
